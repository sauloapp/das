{
 "cells": [
  {
   "cell_type": "code",
   "execution_count": 2,
   "id": "f94093eb87975833",
   "metadata": {
    "ExecuteTime": {
     "end_time": "2023-10-13T16:29:00.884058375Z",
     "start_time": "2023-10-13T16:29:00.869965387Z"
    },
    "collapsed": false,
    "jupyter": {
     "outputs_hidden": false
    }
   },
   "outputs": [
    {
     "ename": "ModuleNotFoundError",
     "evalue": "No module named 'das'",
     "output_type": "error",
     "traceback": [
      "\u001b[0;31m---------------------------------------------------------------------------\u001b[0m",
      "\u001b[0;31mModuleNotFoundError\u001b[0m                       Traceback (most recent call last)",
      "Input \u001b[0;32mIn [2]\u001b[0m, in \u001b[0;36m<cell line: 1>\u001b[0;34m()\u001b[0m\n\u001b[0;32m----> 1\u001b[0m \u001b[38;5;28;01mfrom\u001b[39;00m \u001b[38;5;21;01mdas\u001b[39;00m\u001b[38;5;21;01m.\u001b[39;00m\u001b[38;5;21;01mdistributed_atom_space\u001b[39;00m \u001b[38;5;28;01mimport\u001b[39;00m DistributedAtomSpace, QueryOutputFormat\n\u001b[1;32m      2\u001b[0m \u001b[38;5;28;01mfrom\u001b[39;00m \u001b[38;5;21;01mdas\u001b[39;00m\u001b[38;5;21;01m.\u001b[39;00m\u001b[38;5;21;01mpattern_matcher\u001b[39;00m\u001b[38;5;21;01m.\u001b[39;00m\u001b[38;5;21;01mpattern_matcher\u001b[39;00m \u001b[38;5;28;01mimport\u001b[39;00m PatternMatchingAnswer, OrderedAssignment, UnorderedAssignment, CompositeAssignment, Node, Link, Variable, Not, And, Or\n\u001b[1;32m      3\u001b[0m \u001b[38;5;28;01mfrom\u001b[39;00m \u001b[38;5;21;01mdas\u001b[39;00m\u001b[38;5;21;01m.\u001b[39;00m\u001b[38;5;21;01mdatabase\u001b[39;00m\u001b[38;5;21;01m.\u001b[39;00m\u001b[38;5;21;01mdb_interface\u001b[39;00m \u001b[38;5;28;01mimport\u001b[39;00m WILDCARD\n",
      "\u001b[0;31mModuleNotFoundError\u001b[0m: No module named 'das'"
     ]
    }
   ],
   "source": [
    "from das.distributed_atom_space import DistributedAtomSpace, QueryOutputFormat\n",
    "from das.pattern_matcher.pattern_matcher import PatternMatchingAnswer, OrderedAssignment, UnorderedAssignment, CompositeAssignment, Node, Link, Variable, Not, And, Or\n",
    "from das.database.db_interface import WILDCARD\n",
    "import warnings\n",
    "import time\n",
    "warnings.filterwarnings('ignore')\n",
    "das = DistributedAtomSpace()\n",
    "db = das.db\n",
    "das.count_atoms()"
   ]
  },
  {
   "cell_type": "code",
   "execution_count": null,
   "id": "6c098100e215362a",
   "metadata": {
    "collapsed": false,
    "jupyter": {
     "outputs_hidden": false
    }
   },
   "outputs": [],
   "source": []
  },
  {
   "cell_type": "code",
   "execution_count": null,
   "id": "2629486391df702b",
   "metadata": {
    "collapsed": false,
    "jupyter": {
     "outputs_hidden": false
    }
   },
   "outputs": [],
   "source": [
    "class WallClock:\n",
    "    \n",
    "    def __init__(self):\n",
    "        self.start_time = None\n",
    "        self.wall_time = None\n",
    "        self.epochs = 0\n",
    "    \n",
    "    def start(self):\n",
    "        self.start_time = time.perf_counter()\n",
    "    \n",
    "    def stop(self):\n",
    "        self.wall_time = time.perf_counter() - self.start_time\n",
    "    \n",
    "    def epoch(self, n=1):\n",
    "        self.epochs += n\n",
    "        \n",
    "    def print(self, text=\"query\"):\n",
    "        if self.wall_time >= 1:\n",
    "            total_time = f\"{self.wall_time:.3f} seconds\"\n",
    "        else:\n",
    "            total_time = f\"{(self.wall_time * 1000):.0f} milliseconds\"\n",
    "        if self.epochs == 0:\n",
    "            time_per_epoch = \"\"\n",
    "        else:\n",
    "            time_per_epoch = f\"{((self.wall_time * 1000) / self.epochs):.3f} milliseconds per {text}\"\n",
    "        print(f\"{total_time} ({time_per_epoch})\")\n",
    "            \n",
    "        \n",
    "def print_ordered_assignment(assignment):\n",
    "    if assignment is not None:\n",
    "        for key, value in assignment.mapping.items():\n",
    "            print(f\"{key}: {db.get_node_name(value)}\")\n",
    "\n",
    "def print_unordered_assignment(assignment):\n",
    "    if assignment is not None:\n",
    "        symbols = []\n",
    "        for key in assignment.symbols:\n",
    "            for i in range(assignment.symbols[key]):\n",
    "                symbols.append(key)\n",
    "        values = []\n",
    "        for key in assignment.values:\n",
    "            for i in range(assignment.values[key]):\n",
    "                values.append(key)\n",
    "        mapping_keys = []\n",
    "        mapping_values = []\n",
    "        for symbol, value in zip(symbols, values):\n",
    "            mapping_keys.append(symbol)\n",
    "            mapping_values.append(db.get_node_name(value))\n",
    "        print(f\"{mapping_keys} = {mapping_values}\")\n",
    "\n",
    "def print_elapsed_time(start):\n",
    "    end = time.perf_counter()\n",
    "    wall_time = end - start\n",
    "    if wall_time >= 1:\n",
    "        print(f\"{wall_time:.3f} seconds\")\n",
    "    else:\n",
    "        print(f\"{(wall_time * 1000):.0f} milliseconds\")\n",
    "        \n",
    "def query(query_obj, log = False, detailed_log = False):\n",
    "    assert log or (not detailed_log)\n",
    "    query_answer = PatternMatchingAnswer()\n",
    "    start = time.perf_counter()\n",
    "    matched = query_obj.matched(db, query_answer)\n",
    "    if log:\n",
    "        print_elapsed_time(start)\n",
    "        print(matched)\n",
    "        if matched:\n",
    "            print(f\"{len(query_answer.assignments)} answers\")\n",
    "            if detailed_log:\n",
    "        #         print(query_answer.assignments)\n",
    "                for assignment in query_answer.assignments:\n",
    "                    if type(assignment) is OrderedAssignment:\n",
    "                        print_ordered_assignment(assignment)\n",
    "                    elif type(assignment) is UnorderedAssignment:\n",
    "                        print_unordered_assignment(assignment)\n",
    "                    elif type(assignment) is CompositeAssignment:\n",
    "                        print_ordered_assignment(assignment.ordered_mapping)\n",
    "                        for unordered_assignment in assignment.unordered_mappings:\n",
    "                            print_unordered_assignment(unordered_assignment)\n",
    "                    print(\"\")\n",
    "    return query_answer.assignments\n",
    "\n",
    "def get_mappings(q, variable):\n",
    "    \"\"\"\n",
    "    Executes passed query and return the values assigned to the passed variable by searching for the respective node name\n",
    "    \"\"\"\n",
    "    assignments = query(q)\n",
    "    return [das.get_node_name(assignment.mapping[variable]) for assignment in assignments]\n",
    "    \n",
    "\n",
    "def get_feature_node_handle(name):\n",
    "    \"\"\"\n",
    "    Get the handle of the corresponding Gene node given a gene name.\n",
    "    \"\"\"\n",
    "    verbatim_node = das.get_node(\"Verbatim\", name)\n",
    "    schema_node = das.get_node(\"Schema\", \"Schema:feature_name\")\n",
    "    v1 = Variable(\"v1\")\n",
    "    links = das.get_links(\"Execution\", None, [schema_node, WILDCARD, verbatim_node])\n",
    "    # To be replaced by:\n",
    "    # assert len(links) > 0\n",
    "    if len(links) == 0:\n",
    "        return None\n",
    "    link = das.get_atom(links[0], output_format=QueryOutputFormat.ATOM_INFO)\n",
    "    return link[\"targets\"][1]\n",
    "\n",
    "def build_feature_node(name):\n",
    "    \"\"\"\n",
    "    Build a Node object to be used to compose queries. \n",
    "    \"\"\"\n",
    "    feature_node_handle = get_feature_node_handle(name)\n",
    "    if feature_node_handle == None:\n",
    "        return None\n",
    "    feature_node = das.get_atom(feature_node_handle, output_format=QueryOutputFormat.ATOM_INFO)\n",
    "    return Node(\"feature\", feature_node[\"name\"])\n",
    "\n",
    "def get_feature_fb_id(name):\n",
    "    \"\"\"\n",
    "    Get the FB id of a given feature by its name\n",
    "    \"\"\"\n",
    "    n = build_feature_node(name)\n",
    "    if n == None:\n",
    "        return None\n",
    "    v = Variable(\"v1\")\n",
    "    s = Node(\"Schema\", \"Schema:feature_uniquename\")\n",
    "    # searches for an Execution link to the schema \"feature_uniquename\", node of type \"feature\" \n",
    "    # and value \"name\", and any ***atom***??? represented by Variable \"v1\"\n",
    "    q = Link(\"Execution\", ordered=True, targets=[s, n, v])\n",
    "    assignment = query(q)\n",
    "    assert len(assignment) == 1\n",
    "    id_handle = assignment.pop().mapping['v1'] # handle of \"Verbatim\" node\n",
    "    return db.get_node_name(id_handle)"
   ]
  },
  {
   "cell_type": "code",
   "execution_count": null,
   "id": "637c29d9f2b8074",
   "metadata": {
    "collapsed": false,
    "jupyter": {
     "outputs_hidden": false
    }
   },
   "outputs": [],
   "source": [
    "# Get uniquename of all features in the knowledge base\n",
    "v1 = Variable(\"v1\")\n",
    "v2 = Variable(\"v2\")\n",
    "s = Node(\"Schema\", \"Schema:feature_uniquename\")\n",
    "q1 = Link(\"Execution\", ordered=True, targets=[s, v1, v2])\n",
    "assignments = query(q1, True)"
   ]
  },
  {
   "cell_type": "code",
   "execution_count": null,
   "id": "7db2a0cbe19c848",
   "metadata": {
    "collapsed": false,
    "jupyter": {
     "outputs_hidden": false
    }
   },
   "outputs": [],
   "source": [
    "# Print the mapping uniquename -> FB id for all features from the above query\n",
    "clock = WallClock()\n",
    "clock.start()\n",
    "for assignment in assignments:\n",
    "    if clock.epochs > 100:\n",
    "        break\n",
    "    pkey_handle = assignment.mapping[\"v1\"] # handle of a \"gene\" node\n",
    "    unique_name_handle = assignment.mapping[\"v2\"] # handle of a \"Verbatim\" node\n",
    "    pkey = db.get_node_name(pkey_handle) # sequential integer used as PK in the DB table\n",
    "    unique_name = db.get_node_name(unique_name_handle) # FB id of the gene\n",
    "    v1 = Variable(\"v1\")\n",
    "    s = Node(\"Schema\", \"Schema:feature_name\")\n",
    "    q = Link(\"Execution\", ordered=True, targets=[s, Node(\"feature\", pkey), v1])\n",
    "    assignment2 = query(q)\n",
    "    assert len(assignment2) == 1 # There's only one link between the gene and its name\n",
    "    name_handle = assignment2.pop().mapping['v1'] # handle of \"Verbatim\" node\n",
    "    name = db.get_node_name(name_handle) # gene's name\n",
    "    print(f\"{unique_name} -> {name}\")\n",
    "    clock.epoch()\n",
    "clock.stop()\n",
    "clock.print()  "
   ]
  },
  {
   "cell_type": "code",
   "execution_count": null,
   "id": "7ef374ff4e622b87",
   "metadata": {
    "collapsed": false,
    "jupyter": {
     "outputs_hidden": false
    }
   },
   "outputs": [],
   "source": [
    "# get FB id and group name(s) of gene designated by gene_symbol  <==> DOESN'T GET CORRECT RESULTS IN \"essential pairing\" mode because\n",
    "# there is no link from FB_group_name to Group_member_FB_gene_id\n",
    "def get_gene_group_names(gene_symbol):\n",
    "    fb_id = get_feature_fb_id(gene_symbol)    \n",
    "    n1 = Node(\"Verbatim\", fb_id)\n",
    "    v1 = Variable(\"v1\")\n",
    "    # groups\n",
    "    s = Node(\"Schema\", \"Schema:gene_group_data_FB_group_name\")\n",
    "    q1 = Link(\"Execution\", ordered=True, targets=[s, n1, v1])\n",
    "    return fb_id, get_mappings(q1, \"v1\")\n",
    "    \n",
    "print(f\"Mef2: {get_gene_group_names('Mef2')}\")\n",
    "print(f\"Clk: {get_gene_group_names('Clk')}\")\n",
    "print(f\"Myc: {get_gene_group_names('Myc')}\")\n",
    "print(f\"Abd-B: {get_gene_group_names('Abd-B')}\")"
   ]
  },
  {
   "cell_type": "code",
   "execution_count": null,
   "id": "b124f9855b3cba14",
   "metadata": {
    "collapsed": false,
    "jupyter": {
     "outputs_hidden": false
    }
   },
   "outputs": [],
   "source": [
    "\"\"\"\n",
    "This is an expanded version of the above tailored to performing queries using only the  \"essential pairing\" of columns.\n",
    "\n",
    "In fact, the three functions use the same code structure. So, the three could be merged into only one adding a \"schema parameter\"\n",
    "(and changing identifiers, of course\n",
    "\"\"\"\n",
    "# get FB id and group name(s) of gene designated by gene_symbol\n",
    "def get_gene_group_ids(gene_symbol):\n",
    "    fb_id = get_feature_fb_id(gene_symbol)    \n",
    "    n1 = Node(\"Verbatim\", fb_id)\n",
    "    v1 = Variable(\"v1\")\n",
    "    # groups\n",
    "    s = Node(\"Schema\", \"Schema:gene_group_data_FB_group_id\")\n",
    "    \n",
    "    q1 = Link(\"Execution\", ordered=True, targets=[s, n1, v1])\n",
    "    return fb_id, get_mappings(q1, \"v1\")\n",
    "\n",
    "\n",
    "def get_gene_group_symbols(gene_symbol):\n",
    "    gene_fb_id, gene_groups_ids = get_gene_group_ids(gene_symbol)\n",
    "\n",
    "    gg_symbols = []\n",
    "    for gg_id in gene_groups_ids:\n",
    "        n1 = Node(\"Verbatim\", gg_id)\n",
    "        v1 = Variable(\"v1\")\n",
    "        # groups\n",
    "        s = Node(\"Schema\", \"Schema:gene_group_data_FB_group_symbol\")\n",
    "        \n",
    "        q1 = Link(\"Execution\", ordered=True, targets=[s, n1, v1])\n",
    "        for symb in get_mappings(q1, \"v1\"):\n",
    "            gg_symbols.append(symb)\n",
    "    return gene_fb_id, gg_symbols\n",
    "\n",
    "\n",
    "# get FB id and group name(s) of gene designated by gene_symbol\n",
    "def get_gene_group_names(gene_symbol):\n",
    "    gene_fb_id, gene_groups_ids = get_gene_group_ids(gene_symbol)\n",
    "    \n",
    "    gg_names = []\n",
    "    for gg_id in gene_groups_ids:\n",
    "        n1 = Node(\"Verbatim\", gg_id)\n",
    "        v1 = Variable(\"v1\")\n",
    "        # groups\n",
    "        s = Node(\"Schema\", \"Schema:gene_group_data_FB_group_name\")\n",
    "        \n",
    "        q1 = Link(\"Execution\", ordered=True, targets=[s, n1, v1])\n",
    "        for gg_name in get_mappings(q1, \"v1\"):\n",
    "            gg_names.append(gg_name)\n",
    "    return gene_fb_id, gg_names\n",
    "\n",
    "\n",
    "symbols_list = [\"Mef2\", \"Clk\", \"Myc\", \"Abd-B\"]\n",
    "for gene_symbol in symbols_list:\n",
    "    print(f\"{gene_symbol}: {get_gene_group_ids(gene_symbol)}\")\n",
    "    print(f\"{gene_symbol}: {get_gene_group_symbols(gene_symbol)}\")\n",
    "    print(f\"{gene_symbol}: {get_gene_group_names(gene_symbol)}\")\n",
    "\n"
   ]
  },
  {
   "cell_type": "code",
   "execution_count": null,
   "id": "a31501ea4049f78a",
   "metadata": {
    "collapsed": false,
    "jupyter": {
     "outputs_hidden": false
    }
   },
   "outputs": [],
   "source": [
    "\n",
    "# get FB id and group name(s) of gene designated by gene_symbol\n",
    "def get_gene_group_ids(gene_symbol):\n",
    "    fb_id = get_feature_fb_id(gene_symbol)    \n",
    "    n1 = Node(\"Verbatim\", fb_id)\n",
    "    v1 = Variable(\"v1\")\n",
    "    # groups\n",
    "    s = Node(\"Schema\", \"Schema:gene_group_data_FB_group_id\")\n",
    "    \n",
    "    q1 = Link(\"Execution\", ordered=True, targets=[s, n1, v1])\n",
    "    return fb_id, get_mappings(q1, \"v1\")\n",
    "\n",
    "\n",
    "def get_gene_group_entity(gene_symbol, schema):\n",
    "    gene_fb_id, gene_groups_ids = get_gene_group_ids(gene_symbol)\n",
    "\n",
    "    gg_symbols = []\n",
    "    for gg_id in gene_groups_ids:\n",
    "        n1 = Node(\"Verbatim\", gg_id)\n",
    "        v1 = Variable(\"v1\")\n",
    "        # groups\n",
    "        s = Node(\"Schema\", f\"Schema:{schema}\")\n",
    "        \n",
    "        q1 = Link(\"Execution\", ordered=True, targets=[s, n1, v1])\n",
    "        for symb in get_mappings(q1, \"v1\"):\n",
    "            gg_symbols.append(symb)\n",
    "    return gene_fb_id, gg_symbols\n",
    "    \n",
    "symbols_list = [\"Mef2\", \"Clk\", \"Myc\", \"Abd-B\"]\n",
    "schema_list = [\"gene_group_data_FB_group_id\", \"gene_group_data_FB_group_symbol\", \"gene_group_data_FB_group_name\"]\n",
    "for gene_symbol in symbols_list:\n",
    "    for schema in schema_list:\n",
    "        print(f\"{gene_symbol}: {get_gene_group_entity(gene_symbol, schema)}\")"
   ]
  },
  {
   "cell_type": "code",
   "execution_count": null,
   "id": "60be1ce1b93d871b",
   "metadata": {
    "collapsed": false,
    "jupyter": {
     "outputs_hidden": false
    }
   },
   "outputs": [],
   "source": [
    "# get FB id and group name(s) of gene designated by gene_symbol  <==> DOESN'T GET CORRECT RESULTS IN \"essential pairing\" mode because\n",
    "# there is no link from FB_group_name to Group_member_FB_gene_id\n",
    "def get_gene_group_names(gene_symbol):\n",
    "    fb_id = get_feature_fb_id(gene_symbol)    \n",
    "    n1 = Node(\"Verbatim\", fb_id)\n",
    "    v1 = Variable(\"v1\")\n",
    "    # groups\n",
    "    s = Node(\"Schema\", \"Schema:gene_group_data_FB_group_name\")\n",
    "    q1 = Link(\"Execution\", ordered=True, targets=[s, n1, v1])\n",
    "    return fb_id, get_mappings(q1, \"v1\")\n",
    "    \n",
    "print(f\"Mef2: {get_gene_group_names('Mef2')}\")\n",
    "print(f\"Clk: {get_gene_group_names('Clk')}\")\n",
    "print(f\"Myc: {get_gene_group_names('Myc')}\")\n",
    "print(f\"Abd-B: {get_gene_group_names('Abd-B')}\")"
   ]
  },
  {
   "cell_type": "code",
   "execution_count": null,
   "id": "9be1f86534738ca2",
   "metadata": {
    "collapsed": false,
    "jupyter": {
     "outputs_hidden": false
    }
   },
   "outputs": [],
   "source": [
    "# Get uniquename of all GROUPS in the knowledge base\n",
    "v1 = Variable(\"v1\")\n",
    "v2 = Variable(\"v2\")\n",
    "s = Node(\"Schema\", \"Schema:grp_uniquename\")\n",
    "q1 = Link(\"Execution\", ordered=True, targets=[s, v1, v2])\n",
    "assignments = query(q1, True)"
   ]
  },
  {
   "cell_type": "code",
   "execution_count": null,
   "id": "c931acfa127d00dd",
   "metadata": {
    "collapsed": false,
    "jupyter": {
     "outputs_hidden": false
    }
   },
   "outputs": [],
   "source": []
  },
  {
   "cell_type": "code",
   "execution_count": null,
   "id": "3fca0fa7bea789bf",
   "metadata": {
    "collapsed": false,
    "jupyter": {
     "outputs_hidden": false
    }
   },
   "outputs": [],
   "source": [
    "# Print the mapping uniquename -> FB id for all GROUPS from the above query\n",
    "clock = WallClock()\n",
    "clock.start()\n",
    "for assignment in assignments:\n",
    "    if clock.epochs > 100:\n",
    "        break\n",
    "    pkey_handle = assignment.mapping[\"v1\"] # handle of a \"gene\" node\n",
    "    unique_name_handle = assignment.mapping[\"v2\"] # handle of a \"Verbatim\" node\n",
    "    pkey = db.get_node_name(pkey_handle) # sequential integer used as PK in the DB table\n",
    "    unique_name = db.get_node_name(unique_name_handle) # FB id of the gene\n",
    "    v1 = Variable(\"v1\")\n",
    "    s = Node(\"Schema\", \"Schema:grp_name\")\n",
    "    q = Link(\"Execution\", ordered=True, targets=[s, Node(\"grp\", pkey), v1])\n",
    "    assignment2 = query(q)\n",
    "    assert len(assignment2) == 1 # There's only one link between the gene and its name\n",
    "    name_handle = assignment2.pop().mapping['v1'] # handle of \"Verbatim\" node\n",
    "    name = db.get_node_name(name_handle) # gene's name\n",
    "    print(f\"{unique_name} -> {name}\")\n",
    "    clock.epoch()\n",
    "clock.stop()\n",
    "clock.print()  "
   ]
  }
 ],
 "metadata": {
  "kernelspec": {
   "display_name": "Python 3 (ipykernel)",
   "language": "python",
   "name": "python3"
  },
  "language_info": {
   "codemirror_mode": {
    "name": "ipython",
    "version": 3
   },
   "file_extension": ".py",
   "mimetype": "text/x-python",
   "name": "python",
   "nbconvert_exporter": "python",
   "pygments_lexer": "ipython3",
   "version": "3.10.12"
  }
 },
 "nbformat": 4,
 "nbformat_minor": 5
}
